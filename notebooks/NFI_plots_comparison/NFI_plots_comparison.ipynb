{
 "cells": [
  {
   "cell_type": "markdown",
   "metadata": {},
   "source": [
    "# Comparison of model predictions and TLM targets with NFI plots"
   ]
  },
  {
   "cell_type": "code",
   "execution_count": 1,
   "metadata": {},
   "outputs": [],
   "source": [
    "import sys\n",
    "import os\n",
    "\n",
    "project_dir = os.path.dirname(os.path.dirname(os.getcwd()))\n",
    "sys.path.append(project_dir)\n",
    "\n",
    "import numpy as np\n",
    "from utils import my_confusion_matrix\n",
    "from utils.viz_utils import *"
   ]
  },
  {
   "cell_type": "code",
   "execution_count": 2,
   "metadata": {},
   "outputs": [],
   "source": [
    "# define constants\n",
    "\n",
    "class_names = ['NF', 'OF', 'CF', 'SF']\n",
    "class_names_pof = ['NF', 'F']\n",
    "class_names_ft = ['OF', 'CF', 'SF']\n",
    "\n",
    "n_targets = len(class_names)\n",
    "to_ft = np.full(shape=256, fill_value=-1)\n",
    "to_ft[:4] = np.array([-1, 0, 1, 2]) # array to convert 4-classes labels/predictions to forest type\n",
    "to_pof = np.full(shape=256, fill_value=-1)\n",
    "to_pof[:4] = np.array([0, 1, 1, 1]) # array to convert 4-classes labels/predictions to presence of forest\n",
    "n_targets_ft = len(class_names_ft)\n",
    "n_targets_pof = len(class_names_pof)"
   ]
  },
  {
   "cell_type": "code",
   "execution_count": 4,
   "metadata": {},
   "outputs": [],
   "source": [
    "def plot_NFI_cms(fn, fn_ft=None, xlabel='predicted label'):\n",
    "    \"\"\"loads samples from a label source and NFI plots from a .npy file, and computes and displays confusion matrices\"\"\"\n",
    "    ylabel = 'NFI label'\n",
    "    count_figsize=(2, 1.6)\n",
    "    pts = np.load(fn)\n",
    "    NFI_pts, pred_pts = pts\n",
    "    cm = my_confusion_matrix(NFI_pts, pred_pts, n_targets=n_targets)\n",
    "    print('overall: {} valid samples'.format(np.sum(cm)))\n",
    "    display_count_cm(cm, class_names=class_names, xlabel=xlabel, ylabel=ylabel, figsize=count_figsize)\n",
    "    # forest type\n",
    "    if fn_ft is None:\n",
    "        ft_NFI_pts = to_ft[NFI_pts]\n",
    "        ft_pred_pts = to_ft[pred_pts]\n",
    "    else:\n",
    "        ft_NFI_pts, ft_pred_pts = np.load(fn_ft)\n",
    "    cm_ft = my_confusion_matrix(ft_NFI_pts, ft_pred_pts, n_targets=n_targets_ft)\n",
    "    print('forest type: {} valid samples'.format(np.sum(cm_ft)))\n",
    "    display_count_cm(cm_ft, class_names=class_names_ft, xlabel=xlabel, ylabel=ylabel, figsize=count_figsize)\n",
    "    # presence of forest\n",
    "    pof_NFI_pts = to_pof[NFI_pts]\n",
    "    pof_pred_pts = to_pof[pred_pts]\n",
    "    cm_pof = my_confusion_matrix(pof_NFI_pts, pof_pred_pts, n_targets=n_targets_pof)\n",
    "    print('presence of forest: {} valid samples'.format(np.sum(cm_pof)))\n",
    "    display_count_cm(cm_pof, class_names=class_names_pof, xlabel=xlabel, ylabel=ylabel, figsize=count_figsize)\n",
    "    "
   ]
  },
  {
   "cell_type": "markdown",
   "metadata": {},
   "source": [
    "# TLM"
   ]
  },
  {
   "cell_type": "code",
   "execution_count": 7,
   "metadata": {},
   "outputs": [
    {
     "name": "stdout",
     "output_type": "stream",
     "text": [
      "overall: 321 valid samples\n",
      "IoU NF: 0.9393939393939394\n",
      "IoU OF: 0.041666666666666664\n",
      "IoU CF: 0.7741935483870968\n",
      "IoU SF: 1.0\n",
      "mIoU: 0.6888135386119257\n"
     ]
    },
    {
     "data": {
      "image/png": "[encoded data removed]",
      "text/plain": [
       "<Figure size 144x115.2 with 1 Axes>"
      ]
     },
     "metadata": {
      "needs_background": "light"
     },
     "output_type": "display_data"
    },
    {
     "name": "stdout",
     "output_type": "stream",
     "text": [
      "forest type: 90 valid samples\n",
      "IoU OF: 0.0625\n",
      "IoU CF: 0.8275862068965517\n",
      "IoU SF: 1.0\n",
      "mIoU: 0.6300287356321839\n"
     ]
    },
    {
     "data": {
      "image/png": "[encoded data removed]",
      "text/plain": [
       "<Figure size 144x115.2 with 1 Axes>"
      ]
     },
     "metadata": {
      "needs_background": "light"
     },
     "output_type": "display_data"
    },
    {
     "name": "stdout",
     "output_type": "stream",
     "text": [
      "presence of forest: 321 valid samples\n",
      "IoU NF: 0.9393939393939394\n",
      "IoU F: 0.8653846153846154\n",
      "mIoU: 0.9023892773892774\n"
     ]
    },
    {
     "data": {
      "image/png": "[encoded data removed]",
      "text/plain": [
       "<Figure size 144x115.2 with 1 Axes>"
      ]
     },
     "metadata": {
      "needs_background": "light"
     },
     "output_type": "display_data"
    }
   ],
   "source": [
    "fn = os.path.join(project_dir, 'output/TLM_analysis/NFI_comparison_pts.npy')\n",
    "plot_NFI_cms(fn, fn_ft=None, xlabel='TLM label')"
   ]
  },
  {
   "cell_type": "markdown",
   "metadata": {},
   "source": [
    "# BB model"
   ]
  },
  {
   "cell_type": "code",
   "execution_count": 6,
   "metadata": {},
   "outputs": [
    {
     "name": "stdout",
     "output_type": "stream",
     "text": [
      "overall: 320 valid samples\n",
      "IoU NF: 0.92\n",
      "IoU OF: 0.08\n",
      "IoU CF: 0.78125\n",
      "IoU SF: 0.1111111111111111\n",
      "mIoU: 0.4730902777777778\n"
     ]
    },
    {
     "data": {
      "image/png": "[encoded data removed]",
      "text/plain": [
       "<Figure size 144x115.2 with 1 Axes>"
      ]
     },
     "metadata": {
      "needs_background": "light"
     },
     "output_type": "display_data"
    },
    {
     "name": "stdout",
     "output_type": "stream",
     "text": [
      "forest type: 95 valid samples\n",
      "IoU OF: 0.10526315789473684\n",
      "IoU CF: 0.8241758241758241\n",
      "IoU SF: 0.5\n",
      "mIoU: 0.47647966069018705\n"
     ]
    },
    {
     "data": {
      "image/png": "[encoded data removed]",
      "text/plain": [
       "<Figure size 144x115.2 with 1 Axes>"
      ]
     },
     "metadata": {
      "needs_background": "light"
     },
     "output_type": "display_data"
    },
    {
     "name": "stdout",
     "output_type": "stream",
     "text": [
      "presence of forest: 320 valid samples\n",
      "IoU NF: 0.92\n",
      "IoU F: 0.8407079646017699\n",
      "mIoU: 0.880353982300885\n"
     ]
    },
    {
     "data": {
      "image/png": "[encoded data removed]",
      "text/plain": [
       "<Figure size 144x115.2 with 1 Axes>"
      ]
     },
     "metadata": {
      "needs_background": "light"
     },
     "output_type": "display_data"
    }
   ],
   "source": [
    "fn = os.path.join(\n",
    "        project_dir, \n",
    "        'output/bb/inference/epoch_19/test/NFI_comparison_pts.npy')\n",
    "plot_NFI_cms(fn, fn_ft=None)"
   ]
  },
  {
   "cell_type": "markdown",
   "metadata": {},
   "source": [
    "# SB model"
   ]
  },
  {
   "cell_type": "code",
   "execution_count": 5,
   "metadata": {},
   "outputs": [
    {
     "name": "stdout",
     "output_type": "stream",
     "text": [
      "overall: 320 valid samples\n",
      "IoU NF: 0.9385964912280702\n",
      "IoU OF: 0.037037037037037035\n",
      "IoU CF: 0.7282608695652174\n",
      "IoU SF: 0.0\n",
      "mIoU: 0.4259735994575812\n"
     ]
    },
    {
     "data": {
      "image/png": "[encoded data removed]",
      "text/plain": [
       "<Figure size 144x115.2 with 1 Axes>"
      ]
     },
     "metadata": {
      "needs_background": "light"
     },
     "output_type": "display_data"
    },
    {
     "name": "stdout",
     "output_type": "stream",
     "text": [
      "forest type: 92 valid samples\n",
      "IoU OF: 0.05263157894736842\n",
      "IoU CF: 0.7528089887640449\n",
      "IoU SF: 0.0\n",
      "mIoU: 0.2684801892371378\n"
     ]
    },
    {
     "data": {
      "image/png": "[encoded data removed]",
      "text/plain": [
       "<Figure size 144x115.2 with 1 Axes>"
      ]
     },
     "metadata": {
      "needs_background": "light"
     },
     "output_type": "display_data"
    },
    {
     "name": "stdout",
     "output_type": "stream",
     "text": [
      "presence of forest: 320 valid samples\n",
      "IoU NF: 0.9385964912280702\n",
      "IoU F: 0.8679245283018868\n",
      "mIoU: 0.9032605097649785\n"
     ]
    },
    {
     "data": {
      "image/png": "[encoded data removed]",
      "text/plain": [
       "<Figure size 144x115.2 with 1 Axes>"
      ]
     },
     "metadata": {
      "needs_background": "light"
     },
     "output_type": "display_data"
    }
   ],
   "source": [
    "fn = os.path.join(\n",
    "    project_dir, \n",
    "    'output/sb/inference/epoch_19/test/NFI_comparison_pts.npy')\n",
    "plot_NFI_cms(fn, fn_ft=None)"
   ]
  }
 ],
 "metadata": {
  "interpreter": {
   "hash": "0b8faae0013d58b7ae89badcbffad9cafed7e49016ac27f63909d1402c92ba74"
  },
  "kernelspec": {
   "display_name": "Python 3.7.1 ('ForestMapping')",
   "language": "python",
   "name": "python3"
  },
  "language_info": {
   "codemirror_mode": {
    "name": "ipython",
    "version": 3
   },
   "file_extension": ".py",
   "mimetype": "text/x-python",
   "name": "python",
   "nbconvert_exporter": "python",
   "pygments_lexer": "ipython3",
   "version": "3.7.1"
  },
  "orig_nbformat": 4
 },
 "nbformat": 4,
 "nbformat_minor": 2
}
